{
  "nbformat": 4,
  "nbformat_minor": 0,
  "metadata": {
    "colab": {
      "provenance": []
    },
    "kernelspec": {
      "name": "python3",
      "display_name": "Python 3"
    },
    "language_info": {
      "name": "python"
    },
    "accelerator": "GPU"
  },
  "cells": [
    {
      "cell_type": "code",
      "execution_count": 1,
      "metadata": {
        "id": "IeL9TMBC_qA6"
      },
      "outputs": [],
      "source": [
        "# wrap the output in colab cells\n",
        "from IPython.display import HTML, display\n",
        "\n",
        "def set_css():\n",
        "  display(HTML('''\n",
        "  <style>\n",
        "    pre {\n",
        "        white-space: pre-wrap;\n",
        "    }\n",
        "  </style>\n",
        "  '''))\n",
        "get_ipython().events.register('pre_run_cell', set_css)"
      ]
    },
    {
      "cell_type": "code",
      "source": [
        "!pip install transformers[sentencepiece]"
      ],
      "metadata": {
        "colab": {
          "base_uri": "https://localhost:8080/",
          "height": 572
        },
        "id": "edDGSwbd_8NE",
        "outputId": "b68430c6-3707-4013-b418-ea43a1cae6fc"
      },
      "execution_count": 2,
      "outputs": [
        {
          "output_type": "display_data",
          "data": {
            "text/plain": [
              "<IPython.core.display.HTML object>"
            ],
            "text/html": [
              "\n",
              "  <style>\n",
              "    pre {\n",
              "        white-space: pre-wrap;\n",
              "    }\n",
              "  </style>\n",
              "  "
            ]
          },
          "metadata": {}
        },
        {
          "output_type": "stream",
          "name": "stdout",
          "text": [
            "Looking in indexes: https://pypi.org/simple, https://us-python.pkg.dev/colab-wheels/public/simple/\n",
            "Collecting transformers[sentencepiece]\n",
            "  Downloading transformers-4.23.1-py3-none-any.whl (5.3 MB)\n",
            "\u001b[K     |████████████████████████████████| 5.3 MB 5.2 MB/s \n",
            "\u001b[?25hRequirement already satisfied: tqdm>=4.27 in /usr/local/lib/python3.7/dist-packages (from transformers[sentencepiece]) (4.64.1)\n",
            "Requirement already satisfied: importlib-metadata in /usr/local/lib/python3.7/dist-packages (from transformers[sentencepiece]) (5.0.0)\n",
            "Collecting huggingface-hub<1.0,>=0.10.0\n",
            "  Downloading huggingface_hub-0.10.1-py3-none-any.whl (163 kB)\n",
            "\u001b[K     |████████████████████████████████| 163 kB 69.0 MB/s \n",
            "\u001b[?25hRequirement already satisfied: numpy>=1.17 in /usr/local/lib/python3.7/dist-packages (from transformers[sentencepiece]) (1.21.6)\n",
            "Requirement already satisfied: regex!=2019.12.17 in /usr/local/lib/python3.7/dist-packages (from transformers[sentencepiece]) (2022.6.2)\n",
            "Requirement already satisfied: packaging>=20.0 in /usr/local/lib/python3.7/dist-packages (from transformers[sentencepiece]) (21.3)\n",
            "Requirement already satisfied: requests in /usr/local/lib/python3.7/dist-packages (from transformers[sentencepiece]) (2.23.0)\n",
            "Requirement already satisfied: filelock in /usr/local/lib/python3.7/dist-packages (from transformers[sentencepiece]) (3.8.0)\n",
            "Requirement already satisfied: pyyaml>=5.1 in /usr/local/lib/python3.7/dist-packages (from transformers[sentencepiece]) (6.0)\n",
            "Collecting tokenizers!=0.11.3,<0.14,>=0.11.1\n",
            "  Downloading tokenizers-0.13.1-cp37-cp37m-manylinux_2_17_x86_64.manylinux2014_x86_64.whl (7.6 MB)\n",
            "\u001b[K     |████████████████████████████████| 7.6 MB 48.7 MB/s \n",
            "\u001b[?25hCollecting sentencepiece!=0.1.92,>=0.1.91\n",
            "  Downloading sentencepiece-0.1.97-cp37-cp37m-manylinux_2_17_x86_64.manylinux2014_x86_64.whl (1.3 MB)\n",
            "\u001b[K     |████████████████████████████████| 1.3 MB 64.2 MB/s \n",
            "\u001b[?25hRequirement already satisfied: protobuf<=3.20.2 in /usr/local/lib/python3.7/dist-packages (from transformers[sentencepiece]) (3.17.3)\n",
            "Requirement already satisfied: typing-extensions>=3.7.4.3 in /usr/local/lib/python3.7/dist-packages (from huggingface-hub<1.0,>=0.10.0->transformers[sentencepiece]) (4.1.1)\n",
            "Requirement already satisfied: pyparsing!=3.0.5,>=2.0.2 in /usr/local/lib/python3.7/dist-packages (from packaging>=20.0->transformers[sentencepiece]) (3.0.9)\n",
            "Requirement already satisfied: six>=1.9 in /usr/local/lib/python3.7/dist-packages (from protobuf<=3.20.2->transformers[sentencepiece]) (1.15.0)\n",
            "Requirement already satisfied: zipp>=0.5 in /usr/local/lib/python3.7/dist-packages (from importlib-metadata->transformers[sentencepiece]) (3.8.1)\n",
            "Requirement already satisfied: idna<3,>=2.5 in /usr/local/lib/python3.7/dist-packages (from requests->transformers[sentencepiece]) (2.10)\n",
            "Requirement already satisfied: chardet<4,>=3.0.2 in /usr/local/lib/python3.7/dist-packages (from requests->transformers[sentencepiece]) (3.0.4)\n",
            "Requirement already satisfied: certifi>=2017.4.17 in /usr/local/lib/python3.7/dist-packages (from requests->transformers[sentencepiece]) (2022.9.24)\n",
            "Requirement already satisfied: urllib3!=1.25.0,!=1.25.1,<1.26,>=1.21.1 in /usr/local/lib/python3.7/dist-packages (from requests->transformers[sentencepiece]) (1.24.3)\n",
            "Installing collected packages: tokenizers, huggingface-hub, transformers, sentencepiece\n",
            "Successfully installed huggingface-hub-0.10.1 sentencepiece-0.1.97 tokenizers-0.13.1 transformers-4.23.1\n"
          ]
        }
      ]
    },
    {
      "cell_type": "code",
      "source": [
        "data = \"\"\"In the year 1878 I took my degree of Doctor of Medicine of the University of London, and proceeded to Netley to go through the course prescribed for surgeons in the army. Having completed my studies there, I was duly attached to the Fifth Northumber-\n",
        "land Fusiliers as Assistant Surgeon. The regiment was stationed in India at the time, and before I could join it, the second Afghan war had broken out. On landing at Bombay, I learned that my corps had advanced through the passes, and was already deep in the enemy’s country. I followed, however, with many other officers who were in the same situation as myself, and succeeded in reaching Candahar in safety, where I found my regiment, and at once entered upon my new duties.\n",
        "\n",
        "The campaign brought honours and promotionto many, but for me it had nothing but misfortune and disaster. I was removed from my brigade and attached to the Berkshires, with whom I served at the fatal battle of Maiwand. There I was struck on the shoulder by a Jezail bullet, which shattered the bone and grazed the subclavian artery. I should have fallen into the hands of the murderous Ghazis had it not been for the devotion and courage shown by Murray, my orderly, who threw me across a pack-horse, and succeeded in bringing me safely to the British lines.\n",
        "\n",
        "Worn with pain, and weak from the prolonged hardships which I had undergone, I was removed, with a great train of wounded sufferers, to the base hospital at Peshawar. Here I rallied, and had already improved so far as to be able to walk about the wards, and even to bask a little upon the verandah, when I was struck down by enteric fever, thatcurse of our Indian possessions. For months my life was despaired of, and when at last I came to myself and became convalescent, I was so weak and emaciated that a medical board determined that not a day should be lost in sending me back to England. I was dispatched, accordingly, in the troopship Orontes, and landed a month later on Portsmouth jetty, with my health irretrievably ruined, but with permission from a paternal government to spend the next nine months in attempting to improve it.\n",
        "\n",
        "Thad neither kith nor kin in England, and was therefore as free as air—or as free as an income of eleven shillings and sixpence a day will permit aman to be. Under such circumstances, I naturally gravitated to London, that great cesspool into which all the loungers and idlers of the Empire are irresistibly drained. There I stayed for some time at a private hotel in the Strand, leading a comfortless, meaningless existence, and spending such money as I had, considerably more freely than I ought. So alarming did the state of my finances become, that I soon realized that I must either leave the metropolis and rusticate somewhere in the country, or that I must make a complete alteration in my style of living. Choosing the latter alternative, I began by making up my mind to leave the hotel, and to take up my quarters in some less pretentious and less expensive domicile.\n",
        "\n",
        "On the very day that I had come to this conclusion, I was standing at the Criterion Bar, when some one tapped me on the shoulder, and turning round I recognized young Stamford, who had been a dresser under me at Bart’s. The sight of a friendly face in the great wilderness of London is a pleasant thing indeed to a lonely man. In old days Stamford had never been a particular crony of mine, but now I hailed him with enthusiasm, and he, in his turn, appeared to be delighted to see me. In the exuberance of my joy, I asked him to lunch with me at the Holborn, and we started off together in a hansom.\n",
        "\n",
        "“Whatever have you been doing with yourself, Watson?” he asked in undisguised wonder, as we rattled through the crowded London streets. “You are as thin as a lath and as brown as a nut.”\n",
        "\n",
        "I gave him a short sketch of my adventures, and had hardly concluded it by the time that we reached our destination.\n",
        "\n",
        "“Poor devil!” he said, commiseratingly, after he had listened to my misfortunes. “What are you up to now?”\n",
        "\n",
        "“Looking for lodgings,” I answered. “Trying to solve the problem as to whether it is possible to get comfortable rooms at a reasonable price.”\n",
        "\n",
        "“That's a strange thing,” remarked my companion; “you are the second man to-day that has used that expression to me.”\n",
        "\n",
        "“And who was the first?” I asked.\n",
        "\n",
        "“A fellow who is working at the chemical labora tory up at the hospital. He was bemoaning himself this morning because he could not get someone to go halves with him in some nice rooms which he had found, and which were too much for his purse.”\n",
        "\n",
        "“By Jove!” I cried, “if he really wants someone to share the rooms and the expense, I am the very man for him. I should prefer having a partner to being alone.”\n",
        "\n",
        "Young Stamford looked rather strangely at me over his wine-glass. “You don’t know Sherlock Holmes yet,” he said; “perhaps you would not care for him as a constant companion.”\n",
        "\n",
        "“Why, what is there against him?”\n",
        "\n",
        "“Oh, I didn’t say there was anything against him. He is a little queer in his ideas—an enthusiast in some branches of science. As far as I know he is a decent fellow enough.”\n",
        "\n",
        "“A medical student, I suppose?” said I.\n",
        "\n",
        "“No—I have no idea what he intends to go in for. I believe he is well up in anatomy, and he is a first-class chemist; but, as far as I know, he has never taken out any systematic medical classes. His studies are very desultory and eccentric, but he has amassed a lot of out-of-the way knowledge which would astonish his professors.”\n",
        "\n",
        "“Did you never ask him what he was going in for?” I asked.\n",
        "\n",
        "“No; he is not a man that it is easy to draw out, though he can be communicative enough when the fancy seizes him.”\n",
        "\n",
        "“T should like to meet him,” I said. “If I am to lodge with anyone, I should prefer a man of studious and quiet habits. I am not strong enough yet to stand much noise or excitement. I had enough of both in Afghanistan to last me for the remainder ofmy natural existence. How could I meet this friend of yours?”\n",
        "\n",
        "“He is sure to be at the laboratory,” returned my companion. “He either avoids the place for weeks, or else he works there from morning to night. If you like, we shall drive round together after luncheon.”\n",
        "\n",
        "“Certainly,” I answered, and the conversation drifted away into other channels.\n",
        "\n",
        "As we made our way to the hospital after leaving the Holborn, Stamford gave me a few more particulars about the gentleman whom I proposed to take as a fellow-lodger.\n",
        "\n",
        "“You mustn't blame me if you don’t get on with him,” he said; “I know nothing more of him than I have learned from meeting him occasionally in the laboratory. You proposed this arrangement, so you must not hold me responsible.”\n",
        "\n",
        "“If we don’t get on it will be easy to part company,” I answered. “It seems to me, Stamford,” I added, looking hard at my companion, “that you have some reason for washing your hands of the matter. Is this fellow’s temper so formidable, or what is it? Don’t be mealy-mouthed about it.”\n",
        "\n",
        "“Tt is not easy to express the inexpressible,” he answered with a laugh. “Holmes is a little too scientific for my tastes—it approaches to cold- bloodedness. I could imagine his giving a friend a little pinch of the latest vegetable alkaloid, not out of malevolence, you understand, but simply out of a spirit of inquiry in order to have an accurate idea of the effects. To do him justice, I think that he would take it himself with the same readiness. He appears to have a passion for definite and exact knowledge.”\n",
        "\n",
        "“Very right too.”\n",
        "\n",
        "“Yes, but it may be pushed to excess. When it comes to beating the subjects in the dissectingrooms with a stick, it is certainly taking rather a bizarre shape.”\n",
        "\n",
        "“Beating the subjects\n",
        "\n",
        "“Yes, to verify how far bruises may be produced after death. I saw him at it with my own eyes.”\n",
        "\n",
        "“And yet you say he is not a medical student?”\n",
        "\n",
        "“No. Heaven knows what the objects of his studies are. But here we are, and you must form your own impressions about him.” As he spoke, we turned down a narrow lane and passed through a small side-door, which opened into a wing of the great hospital. It was familiar ground to me, and I needed no guiding as we ascended the bleak stone staircase and made our way down the long corridor with its vista of whitewashed wall and dun-coloured doors. Near the further end a low arched passage branched away from it and led to the chemical laboratory.\n",
        "\n",
        "This was a lofty chamber, lined and littered with countless bottles. Broad, low tables were scattered about, which bristled with retorts, test-tubes, and little Bunsen lamps, with their blue flickering flames. There was only one student in the room, who was bending over a distant table absorbed in his work. At the sound of our steps he glanced round and sprang to his feet with a cry of pleasure. “I’ve found it! I’ve found it,” he shouted to my companion, running towards us with a test-tube in his hand. “I have found a re-agent which is precipitated by hcemoglobin, and by nothing else.” Had he discovered a gold mine, greater delight could not have shone upon his features.\n",
        "\n",
        "“Dr. Watson, Mr. Sherlock Holmes,” said Stamford, introducing us.\n",
        "\n",
        "“How are you?” he said cordially, gripping my hand with a strength for which I should hardly have given him credit. “You have been in Afghanistan, I perceive.”\n",
        "\n",
        "“How on earth did you know that?” I asked in astonishment.\n",
        "\n",
        "“Never mind,” said he, chuckling to himself. “The question now is about hcemoglobin. No doubt you see the significance of this discovery of mine?”\n",
        "\n",
        "“It is interesting, chemically, no doubt,” I answered, “but practically—”\n",
        "\n",
        "“Why, man, it is the most practical medico-legal discovery for years. Don’t you see that it gives us an infallible test for blood stains. Come over here now!” He seized me by the coat-sleeve in his eagerness, and drew me over to the table at which he had been working. “Let us have some fresh blood,” he said, digging a long bodkin into his finger, and drawing off the resulting drop of blood in a chemical pipette. “Now, I add this small quantity of blood to a litre of water. You perceive that the resulting mixture has the appearance of pure water. The proportion of blood cannot be more than one in a million. I have no doubt, however, that we shall be able to obtain the characteristic reaction.” As he spoke, he threw into the vessel a few white crystals, and then added some drops of a transparent fluid. In an instant the contents assumed a dull mahogany colour, and a brownish dust was precipitated to the bottom of the glass jar.\n",
        "\n",
        "“Ha! ha!” he cried, clapping his hands, and looking as delighted as a child with a new toy. “What do you think of that?”\n",
        "\n",
        "“Tt seems to be a very delicate test,” I remarked.\n",
        "\n",
        "“Beautiful! beautiful! The old Guiacum test was very clumsy and uncertain. So is the microscopic examination for blood corpuscles. The latter is valueless if the stains are a few hours old. Now, this appears to act as well whether the blood is old or new. Had this test been invented, there are hundreds of men now walking the earth who would long ago have paid the penalty of their crimes.”\n",
        "\n",
        "“Indeed!” I murmured.\n",
        "\n",
        "“Criminal cases are continually hinging upon that one point. A man is suspected of a crime months perhaps after it has been committed. His linen or clothes are examined, and brownish stains discovered upon them. Are they blood stains, or mud stains, or rust stains, or fruit stains, or what are they? That is a question which has puzzled many an expert, and why? Because there was no reliable test. Now we have the Sherlock Holmes’ test, and there will no longer be any difficulty.”\n",
        "\n",
        "His eyes fairly glittered as he spoke, and he put his hand over his heart and bowed as if to some applauding crowd conjured up by his imagination.\n",
        "\n",
        "“You are to be congratulated,” I remarked, considerably surprised at his enthusiasm.\n",
        "\n",
        "“There was the case of Von Bischoff at Frankfort last year. He would certainly have been hung had this test been in existence. Then there was Mason of Bradford, and the notorious Muller, and Lefevre of Montpellier, and Samson of new Orleans. I could name a score of cases in which it would have been decisive.”\n",
        "\n",
        "“You seem to be a walking calendar of crime,” said Stamford with a laugh. “You might start a paper on those lines. Call it the ‘Police News of the Past.’ ”\n",
        "\n",
        "“Very interesting reading it might be made, too,” remarked Sherlock Holmes, sticking a small piece of plaster over the prick on his finger. “I have to be careful,” he continued, turning to me with a smile, “for I dabble with poisons a good deal.” He held out his hand as he spoke, and I noticed that it was all mottled over with similar pieces of plaster, and discoloured with strong acids.\n",
        "\n",
        "“We came here on business,” said Stamford, sit- ting down on a high three-legged stool, and pushing another one in my direction with his foot. “My friend here wants to take diggings, and as you were complaining that you could get no one to go halveswith you, I thought that I had better bring you together.”\n",
        "\n",
        "Sherlock Holmes seemed delighted at the idea of sharing his rooms with me. “I have my eye on a suite in Baker Street,” he said, “which would suit us down to the ground. You don’t mind the smell of strong tobacco, I hope?”\n",
        "\n",
        "“T always smoke ‘ship’s’ myself,” I answered.\n",
        "\n",
        "“That’s good enough. I generally have chemicals about, and occasionally do experiments. Would that annoy you?”\n",
        "\n",
        "“By no means.”\n",
        "\n",
        "“Let me see—what are my other shortcomings. I get in the dumps at times, and don’t open my mouth for days on end. You must not think Iam sulky when I do that. Just let me alone, and I'll soon be right. What have you to confess now? It’s just as well for two fellows to know the worst of one another before they begin to live together.”\n",
        "\n",
        "I laughed at this cross-examination. “I keep a bull pup,” I said, “and I object to rows because my nerves are shaken, and I get up at all sorts of ungodly hours, and I am extremely lazy. I have another set of vices when I’m well, but those are the principal ones at present.”\n",
        "\n",
        "“Do you include violin-playing in your category of rows?” he asked, anxiously.\n",
        "\n",
        "“It depends on the player,” I answered. “A well-played violin is a treat for the gods—a badly-played one—”\n",
        "\n",
        "“Oh, that’s all right,” he cried, with a merry laugh. “I think we may consider the thing as set-tled—that is, if the rooms are agreeable to you.”\n",
        "\n",
        "“When shall we see them?”\n",
        "\n",
        "“Call for me here at noon to-morrow, and we'll go together and settle everything,” he answered.\n",
        "\n",
        "“All right—noon exactly,” said I, shaking his hand.\n",
        "\n",
        "We left him working among his chemicals, and we walked together towards my hotel.\n",
        "\n",
        "“By the way,” I asked suddenly, stopping and turning upon Stamford, “how the deuce did he know that I had come from Afghanistan?”\n",
        "\n",
        "My companion smiled an enigmatical smile. “That's just his little peculiarity,” he said. “A good many people have wanted to know how he finds things out.”\n",
        "\n",
        "“Oh! a mystery is it?” I cried, rubbing my hands. “This is very piquant. I am much obliged to you for bringing us together. ‘The proper study of mankind is man,’ you know.”\n",
        "\n",
        "“You must study him, then,” Stamford said, as he bade me good-bye. “You'll find him a knotty problem, though. I’ll wager he learns more about you than you about him. Good-bye.”\n",
        "\n",
        "“Good-bye,” I answered, and strolled on to my hotel, considerably interested in my new acquainance.\"\"\""
      ],
      "metadata": {
        "colab": {
          "base_uri": "https://localhost:8080/",
          "height": 17
        },
        "id": "xuRXiYo2AhFM",
        "outputId": "3f146466-e1b4-46e4-c0bf-dcdda4287e9a"
      },
      "execution_count": 18,
      "outputs": [
        {
          "output_type": "display_data",
          "data": {
            "text/plain": [
              "<IPython.core.display.HTML object>"
            ],
            "text/html": [
              "\n",
              "  <style>\n",
              "    pre {\n",
              "        white-space: pre-wrap;\n",
              "    }\n",
              "  </style>\n",
              "  "
            ]
          },
          "metadata": {}
        }
      ]
    },
    {
      "cell_type": "code",
      "source": [
        "data"
      ],
      "metadata": {
        "colab": {
          "base_uri": "https://localhost:8080/",
          "height": 123
        },
        "id": "au6L3i1jAv0p",
        "outputId": "140155fc-18f5-4823-ab4d-a34a5c00ca41"
      },
      "execution_count": 19,
      "outputs": [
        {
          "output_type": "display_data",
          "data": {
            "text/plain": [
              "<IPython.core.display.HTML object>"
            ],
            "text/html": [
              "\n",
              "  <style>\n",
              "    pre {\n",
              "        white-space: pre-wrap;\n",
              "    }\n",
              "  </style>\n",
              "  "
            ]
          },
          "metadata": {}
        },
        {
          "output_type": "execute_result",
          "data": {
            "text/plain": [
              "\"In the year 1878 I took my degree of Doctor of Medicine of the University of London, and proceeded to Netley to go through the course prescribed for surgeons in the army. Having completed my studies there, I was duly attached to the Fifth Northumber-\\nland Fusiliers as Assistant Surgeon. The regiment was stationed in India at the time, and before I could join it, the second Afghan war had broken out. On landing at Bombay, I learned that my corps had advanced through the passes, and was already deep in the enemy’s country. I followed, however, with many other officers who were in the same situation as myself, and succeeded in reaching Candahar in safety, where I found my regiment, and at once entered upon my new duties.\\n\\nThe campaign brought honours and promotionto many, but for me it had nothing but misfortune and disaster. I was removed from my brigade and attached to the Berkshires, with whom I served at the fatal battle of Maiwand. There I was struck on the shoulder by a Jezail bullet, which shattered the bone and grazed the subclavian artery. I should have fallen into the hands of the murderous Ghazis had it not been for the devotion and courage shown by Murray, my orderly, who threw me across a pack-horse, and succeeded in bringing me safely to the British lines.\\n\\nWorn with pain, and weak from the prolonged hardships which I had undergone, I was removed, with a great train of wounded sufferers, to the base hospital at Peshawar. Here I rallied, and had already improved so far as to be able to walk about the wards, and even to bask a little upon the verandah, when I was struck down by enteric fever, thatcurse of our Indian possessions. For months my life was despaired of, and when at last I came to myself and became convalescent, I was so weak and emaciated that a medical board determined that not a day should be lost in sending me back to England. I was dispatched, accordingly, in the troopship Orontes, and landed a month later on Portsmouth jetty, with my health irretrievably ruined, but with permission from a paternal government to spend the next nine months in attempting to improve it.\\n\\nThad neither kith nor kin in England, and was therefore as free as air—or as free as an income of eleven shillings and sixpence a day will permit aman to be. Under such circumstances, I naturally gravitated to London, that great cesspool into which all the loungers and idlers of the Empire are irresistibly drained. There I stayed for some time at a private hotel in the Strand, leading a comfortless, meaningless existence, and spending such money as I had, considerably more freely than I ought. So alarming did the state of my finances become, that I soon realized that I must either leave the metropolis and rusticate somewhere in the country, or that I must make a complete alteration in my style of living. Choosing the latter alternative, I began by making up my mind to leave the hotel, and to take up my quarters in some less pretentious and less expensive domicile.\\n\\nOn the very day that I had come to this conclusion, I was standing at the Criterion Bar, when some one tapped me on the shoulder, and turning round I recognized young Stamford, who had been a dresser under me at Bart’s. The sight of a friendly face in the great wilderness of London is a pleasant thing indeed to a lonely man. In old days Stamford had never been a particular crony of mine, but now I hailed him with enthusiasm, and he, in his turn, appeared to be delighted to see me. In the exuberance of my joy, I asked him to lunch with me at the Holborn, and we started off together in a hansom.\\n\\n“Whatever have you been doing with yourself, Watson?” he asked in undisguised wonder, as we rattled through the crowded London streets. “You are as thin as a lath and as brown as a nut.”\\n\\nI gave him a short sketch of my adventures, and had hardly concluded it by the time that we reached our destination.\\n\\n“Poor devil!” he said, commiseratingly, after he had listened to my misfortunes. “What are you up to now?”\\n\\n“Looking for lodgings,” I answered. “Trying to solve the problem as to whether it is possible to get comfortable rooms at a reasonable price.”\\n\\n“That's a strange thing,” remarked my companion; “you are the second man to-day that has used that expression to me.”\\n\\n“And who was the first?” I asked.\\n\\n“A fellow who is working at the chemical labora tory up at the hospital. He was bemoaning himself this morning because he could not get someone to go halves with him in some nice rooms which he had found, and which were too much for his purse.”\\n\\n“By Jove!” I cried, “if he really wants someone to share the rooms and the expense, I am the very man for him. I should prefer having a partner to being alone.”\\n\\nYoung Stamford looked rather strangely at me over his wine-glass. “You don’t know Sherlock Holmes yet,” he said; “perhaps you would not care for him as a constant companion.”\\n\\n“Why, what is there against him?”\\n\\n“Oh, I didn’t say there was anything against him. He is a little queer in his ideas—an enthusiast in some branches of science. As far as I know he is a decent fellow enough.”\\n\\n“A medical student, I suppose?” said I.\\n\\n“No—I have no idea what he intends to go in for. I believe he is well up in anatomy, and he is a first-class chemist; but, as far as I know, he has never taken out any systematic medical classes. His studies are very desultory and eccentric, but he has amassed a lot of out-of-the way knowledge which would astonish his professors.”\\n\\n“Did you never ask him what he was going in for?” I asked.\\n\\n“No; he is not a man that it is easy to draw out, though he can be communicative enough when the fancy seizes him.”\\n\\n“T should like to meet him,” I said. “If I am to lodge with anyone, I should prefer a man of studious and quiet habits. I am not strong enough yet to stand much noise or excitement. I had enough of both in Afghanistan to last me for the remainder ofmy natural existence. How could I meet this friend of yours?”\\n\\n“He is sure to be at the laboratory,” returned my companion. “He either avoids the place for weeks, or else he works there from morning to night. If you like, we shall drive round together after luncheon.”\\n\\n“Certainly,” I answered, and the conversation drifted away into other channels.\\n\\nAs we made our way to the hospital after leaving the Holborn, Stamford gave me a few more particulars about the gentleman whom I proposed to take as a fellow-lodger.\\n\\n“You mustn't blame me if you don’t get on with him,” he said; “I know nothing more of him than I have learned from meeting him occasionally in the laboratory. You proposed this arrangement, so you must not hold me responsible.”\\n\\n“If we don’t get on it will be easy to part company,” I answered. “It seems to me, Stamford,” I added, looking hard at my companion, “that you have some reason for washing your hands of the matter. Is this fellow’s temper so formidable, or what is it? Don’t be mealy-mouthed about it.”\\n\\n“Tt is not easy to express the inexpressible,” he answered with a laugh. “Holmes is a little too scientific for my tastes—it approaches to cold- bloodedness. I could imagine his giving a friend a little pinch of the latest vegetable alkaloid, not out of malevolence, you understand, but simply out of a spirit of inquiry in order to have an accurate idea of the effects. To do him justice, I think that he would take it himself with the same readiness. He appears to have a passion for definite and exact knowledge.”\\n\\n“Very right too.”\\n\\n“Yes, but it may be pushed to excess. When it comes to beating the subjects in the dissectingrooms with a stick, it is certainly taking rather a bizarre shape.”\\n\\n“Beating the subjects\\n\\n“Yes, to verify how far bruises may be produced after death. I saw him at it with my own eyes.”\\n\\n“And yet you say he is not a medical student?”\\n\\n“No. Heaven knows what the objects of his studies are. But here we are, and you must form your own impressions about him.” As he spoke, we turned down a narrow lane and passed through a small side-door, which opened into a wing of the great hospital. It was familiar ground to me, and I needed no guiding as we ascended the bleak stone staircase and made our way down the long corridor with its vista of whitewashed wall and dun-coloured doors. Near the further end a low arched passage branched away from it and led to the chemical laboratory.\\n\\nThis was a lofty chamber, lined and littered with countless bottles. Broad, low tables were scattered about, which bristled with retorts, test-tubes, and little Bunsen lamps, with their blue flickering flames. There was only one student in the room, who was bending over a distant table absorbed in his work. At the sound of our steps he glanced round and sprang to his feet with a cry of pleasure. “I’ve found it! I’ve found it,” he shouted to my companion, running towards us with a test-tube in his hand. “I have found a re-agent which is precipitated by hcemoglobin, and by nothing else.” Had he discovered a gold mine, greater delight could not have shone upon his features.\\n\\n“Dr. Watson, Mr. Sherlock Holmes,” said Stamford, introducing us.\\n\\n“How are you?” he said cordially, gripping my hand with a strength for which I should hardly have given him credit. “You have been in Afghanistan, I perceive.”\\n\\n“How on earth did you know that?” I asked in astonishment.\\n\\n“Never mind,” said he, chuckling to himself. “The question now is about hcemoglobin. No doubt you see the significance of this discovery of mine?”\\n\\n“It is interesting, chemically, no doubt,” I answered, “but practically—”\\n\\n“Why, man, it is the most practical medico-legal discovery for years. Don’t you see that it gives us an infallible test for blood stains. Come over here now!” He seized me by the coat-sleeve in his eagerness, and drew me over to the table at which he had been working. “Let us have some fresh blood,” he said, digging a long bodkin into his finger, and drawing off the resulting drop of blood in a chemical pipette. “Now, I add this small quantity of blood to a litre of water. You perceive that the resulting mixture has the appearance of pure water. The proportion of blood cannot be more than one in a million. I have no doubt, however, that we shall be able to obtain the characteristic reaction.” As he spoke, he threw into the vessel a few white crystals, and then added some drops of a transparent fluid. In an instant the contents assumed a dull mahogany colour, and a brownish dust was precipitated to the bottom of the glass jar.\\n\\n“Ha! ha!” he cried, clapping his hands, and looking as delighted as a child with a new toy. “What do you think of that?”\\n\\n“Tt seems to be a very delicate test,” I remarked.\\n\\n“Beautiful! beautiful! The old Guiacum test was very clumsy and uncertain. So is the microscopic examination for blood corpuscles. The latter is valueless if the stains are a few hours old. Now, this appears to act as well whether the blood is old or new. Had this test been invented, there are hundreds of men now walking the earth who would long ago have paid the penalty of their crimes.”\\n\\n“Indeed!” I murmured.\\n\\n“Criminal cases are continually hinging upon that one point. A man is suspected of a crime months perhaps after it has been committed. His linen or clothes are examined, and brownish stains discovered upon them. Are they blood stains, or mud stains, or rust stains, or fruit stains, or what are they? That is a question which has puzzled many an expert, and why? Because there was no reliable test. Now we have the Sherlock Holmes’ test, and there will no longer be any difficulty.”\\n\\nHis eyes fairly glittered as he spoke, and he put his hand over his heart and bowed as if to some applauding crowd conjured up by his imagination.\\n\\n“You are to be congratulated,” I remarked, considerably surprised at his enthusiasm.\\n\\n“There was the case of Von Bischoff at Frankfort last year. He would certainly have been hung had this test been in existence. Then there was Mason of Bradford, and the notorious Muller, and Lefevre of Montpellier, and Samson of new Orleans. I could name a score of cases in which it would have been decisive.”\\n\\n“You seem to be a walking calendar of crime,” said Stamford with a laugh. “You might start a paper on those lines. Call it the ‘Police News of the Past.’ ”\\n\\n“Very interesting reading it might be made, too,” remarked Sherlock Holmes, sticking a small piece of plaster over the prick on his finger. “I have to be careful,” he continued, turning to me with a smile, “for I dabble with poisons a good deal.” He held out his hand as he spoke, and I noticed that it was all mottled over with similar pieces of plaster, and discoloured with strong acids.\\n\\n“We came here on business,” said Stamford, sit- ting down on a high three-legged stool, and pushing another one in my direction with his foot. “My friend here wants to take diggings, and as you were complaining that you could get no one to go halveswith you, I thought that I had better bring you together.”\\n\\nSherlock Holmes seemed delighted at the idea of sharing his rooms with me. “I have my eye on a suite in Baker Street,” he said, “which would suit us down to the ground. You don’t mind the smell of strong tobacco, I hope?”\\n\\n“T always smoke ‘ship’s’ myself,” I answered.\\n\\n“That’s good enough. I generally have chemicals about, and occasionally do experiments. Would that annoy you?”\\n\\n“By no means.”\\n\\n“Let me see—what are my other shortcomings. I get in the dumps at times, and don’t open my mouth for days on end. You must not think Iam sulky when I do that. Just let me alone, and I'll soon be right. What have you to confess now? It’s just as well for two fellows to know the worst of one another before they begin to live together.”\\n\\nI laughed at this cross-examination. “I keep a bull pup,” I said, “and I object to rows because my nerves are shaken, and I get up at all sorts of ungodly hours, and I am extremely lazy. I have another set of vices when I’m well, but those are the principal ones at present.”\\n\\n“Do you include violin-playing in your category of rows?” he asked, anxiously.\\n\\n“It depends on the player,” I answered. “A well-played violin is a treat for the gods—a badly-played one—”\\n\\n“Oh, that’s all right,” he cried, with a merry laugh. “I think we may consider the thing as set-tled—that is, if the rooms are agreeable to you.”\\n\\n“When shall we see them?”\\n\\n“Call for me here at noon to-morrow, and we'll go together and settle everything,” he answered.\\n\\n“All right—noon exactly,” said I, shaking his hand.\\n\\nWe left him working among his chemicals, and we walked together towards my hotel.\\n\\n“By the way,” I asked suddenly, stopping and turning upon Stamford, “how the deuce did he know that I had come from Afghanistan?”\\n\\nMy companion smiled an enigmatical smile. “That's just his little peculiarity,” he said. “A good many people have wanted to know how he finds things out.”\\n\\n“Oh! a mystery is it?” I cried, rubbing my hands. “This is very piquant. I am much obliged to you for bringing us together. ‘The proper study of mankind is man,’ you know.”\\n\\n“You must study him, then,” Stamford said, as he bade me good-bye. “You'll find him a knotty problem, though. I’ll wager he learns more about you than you about him. Good-bye.”\\n\\n“Good-bye,” I answered, and strolled on to my hotel, considerably interested in my new acquainance.\""
            ],
            "application/vnd.google.colaboratory.intrinsic+json": {
              "type": "string"
            }
          },
          "metadata": {},
          "execution_count": 19
        }
      ]
    },
    {
      "cell_type": "code",
      "source": [
        "len(data)"
      ],
      "metadata": {
        "colab": {
          "base_uri": "https://localhost:8080/",
          "height": 34
        },
        "id": "kIiQrxE_AwsK",
        "outputId": "d3797ec5-bbae-410d-cd1b-d6061e534383"
      },
      "execution_count": 20,
      "outputs": [
        {
          "output_type": "display_data",
          "data": {
            "text/plain": [
              "<IPython.core.display.HTML object>"
            ],
            "text/html": [
              "\n",
              "  <style>\n",
              "    pre {\n",
              "        white-space: pre-wrap;\n",
              "    }\n",
              "  </style>\n",
              "  "
            ]
          },
          "metadata": {}
        },
        {
          "output_type": "execute_result",
          "data": {
            "text/plain": [
              "15321"
            ]
          },
          "metadata": {},
          "execution_count": 20
        }
      ]
    },
    {
      "cell_type": "code",
      "source": [
        "from transformers import AutoTokenizer, AutoModelForSeq2SeqLM"
      ],
      "metadata": {
        "colab": {
          "base_uri": "https://localhost:8080/",
          "height": 17
        },
        "id": "3gS0eLvkBDsF",
        "outputId": "e3b08226-3b4f-4f3a-a8f8-71423227917b"
      },
      "execution_count": 21,
      "outputs": [
        {
          "output_type": "display_data",
          "data": {
            "text/plain": [
              "<IPython.core.display.HTML object>"
            ],
            "text/html": [
              "\n",
              "  <style>\n",
              "    pre {\n",
              "        white-space: pre-wrap;\n",
              "    }\n",
              "  </style>\n",
              "  "
            ]
          },
          "metadata": {}
        }
      ]
    },
    {
      "cell_type": "code",
      "source": [
        "checkpoint = \"sshleifer/distilbart-cnn-12-6\"\n",
        "\n",
        "tokenizer = AutoTokenizer.from_pretrained(checkpoint)\n",
        "model = AutoModelForSeq2SeqLM.from_pretrained(checkpoint)"
      ],
      "metadata": {
        "colab": {
          "base_uri": "https://localhost:8080/",
          "height": 17
        },
        "id": "C_CAdrqrBJgW",
        "outputId": "6c24b594-7764-4730-b98c-d0d55a650e66"
      },
      "execution_count": 22,
      "outputs": [
        {
          "output_type": "display_data",
          "data": {
            "text/plain": [
              "<IPython.core.display.HTML object>"
            ],
            "text/html": [
              "\n",
              "  <style>\n",
              "    pre {\n",
              "        white-space: pre-wrap;\n",
              "    }\n",
              "  </style>\n",
              "  "
            ]
          },
          "metadata": {}
        }
      ]
    },
    {
      "cell_type": "code",
      "source": [
        "# max tokens including the special tokens\n",
        "tokenizer.model_max_length"
      ],
      "metadata": {
        "colab": {
          "base_uri": "https://localhost:8080/",
          "height": 34
        },
        "id": "Aixf5VhkBPCS",
        "outputId": "555100a6-06cd-4113-807c-5bfec4ffc516"
      },
      "execution_count": 23,
      "outputs": [
        {
          "output_type": "display_data",
          "data": {
            "text/plain": [
              "<IPython.core.display.HTML object>"
            ],
            "text/html": [
              "\n",
              "  <style>\n",
              "    pre {\n",
              "        white-space: pre-wrap;\n",
              "    }\n",
              "  </style>\n",
              "  "
            ]
          },
          "metadata": {}
        },
        {
          "output_type": "execute_result",
          "data": {
            "text/plain": [
              "1024"
            ]
          },
          "metadata": {},
          "execution_count": 23
        }
      ]
    },
    {
      "cell_type": "code",
      "source": [
        "# max tokens excluding the special tokens\n",
        "tokenizer.max_len_single_sentence"
      ],
      "metadata": {
        "colab": {
          "base_uri": "https://localhost:8080/",
          "height": 34
        },
        "id": "IVKF2ME1Bf0Z",
        "outputId": "84fb3b6f-84b7-4f1c-9abe-5a7ba247109f"
      },
      "execution_count": 24,
      "outputs": [
        {
          "output_type": "display_data",
          "data": {
            "text/plain": [
              "<IPython.core.display.HTML object>"
            ],
            "text/html": [
              "\n",
              "  <style>\n",
              "    pre {\n",
              "        white-space: pre-wrap;\n",
              "    }\n",
              "  </style>\n",
              "  "
            ]
          },
          "metadata": {}
        },
        {
          "output_type": "execute_result",
          "data": {
            "text/plain": [
              "1022"
            ]
          },
          "metadata": {},
          "execution_count": 24
        }
      ]
    },
    {
      "cell_type": "code",
      "source": [
        "# extract the sentences from the document\n",
        "import nltk\n",
        "nltk.download('punkt')\n",
        "sentences = nltk.tokenize.sent_tokenize(data)"
      ],
      "metadata": {
        "colab": {
          "base_uri": "https://localhost:8080/",
          "height": 52
        },
        "id": "0HQTya_HBicv",
        "outputId": "03a16170-3b67-469c-96d0-eeea7115b721"
      },
      "execution_count": 25,
      "outputs": [
        {
          "output_type": "display_data",
          "data": {
            "text/plain": [
              "<IPython.core.display.HTML object>"
            ],
            "text/html": [
              "\n",
              "  <style>\n",
              "    pre {\n",
              "        white-space: pre-wrap;\n",
              "    }\n",
              "  </style>\n",
              "  "
            ]
          },
          "metadata": {}
        },
        {
          "output_type": "stream",
          "name": "stderr",
          "text": [
            "[nltk_data] Downloading package punkt to /root/nltk_data...\n",
            "[nltk_data]   Package punkt is already up-to-date!\n"
          ]
        }
      ]
    },
    {
      "cell_type": "code",
      "source": [
        "sentences"
      ],
      "metadata": {
        "colab": {
          "base_uri": "https://localhost:8080/",
          "height": 1000
        },
        "id": "fseyxBDHBr4-",
        "outputId": "416aaebc-3d62-42fd-85e9-4be8580112a8"
      },
      "execution_count": 26,
      "outputs": [
        {
          "output_type": "display_data",
          "data": {
            "text/plain": [
              "<IPython.core.display.HTML object>"
            ],
            "text/html": [
              "\n",
              "  <style>\n",
              "    pre {\n",
              "        white-space: pre-wrap;\n",
              "    }\n",
              "  </style>\n",
              "  "
            ]
          },
          "metadata": {}
        },
        {
          "output_type": "execute_result",
          "data": {
            "text/plain": [
              "['In the year 1878 I took my degree of Doctor of Medicine of the University of London, and proceeded to Netley to go through the course prescribed for surgeons in the army.',\n",
              " 'Having completed my studies there, I was duly attached to the Fifth Northumber-\\nland Fusiliers as Assistant Surgeon.',\n",
              " 'The regiment was stationed in India at the time, and before I could join it, the second Afghan war had broken out.',\n",
              " 'On landing at Bombay, I learned that my corps had advanced through the passes, and was already deep in the enemy’s country.',\n",
              " 'I followed, however, with many other officers who were in the same situation as myself, and succeeded in reaching Candahar in safety, where I found my regiment, and at once entered upon my new duties.',\n",
              " 'The campaign brought honours and promotionto many, but for me it had nothing but misfortune and disaster.',\n",
              " 'I was removed from my brigade and attached to the Berkshires, with whom I served at the fatal battle of Maiwand.',\n",
              " 'There I was struck on the shoulder by a Jezail bullet, which shattered the bone and grazed the subclavian artery.',\n",
              " 'I should have fallen into the hands of the murderous Ghazis had it not been for the devotion and courage shown by Murray, my orderly, who threw me across a pack-horse, and succeeded in bringing me safely to the British lines.',\n",
              " 'Worn with pain, and weak from the prolonged hardships which I had undergone, I was removed, with a great train of wounded sufferers, to the base hospital at Peshawar.',\n",
              " 'Here I rallied, and had already improved so far as to be able to walk about the wards, and even to bask a little upon the verandah, when I was struck down by enteric fever, thatcurse of our Indian possessions.',\n",
              " 'For months my life was despaired of, and when at last I came to myself and became convalescent, I was so weak and emaciated that a medical board determined that not a day should be lost in sending me back to England.',\n",
              " 'I was dispatched, accordingly, in the troopship Orontes, and landed a month later on Portsmouth jetty, with my health irretrievably ruined, but with permission from a paternal government to spend the next nine months in attempting to improve it.',\n",
              " 'Thad neither kith nor kin in England, and was therefore as free as air—or as free as an income of eleven shillings and sixpence a day will permit aman to be.',\n",
              " 'Under such circumstances, I naturally gravitated to London, that great cesspool into which all the loungers and idlers of the Empire are irresistibly drained.',\n",
              " 'There I stayed for some time at a private hotel in the Strand, leading a comfortless, meaningless existence, and spending such money as I had, considerably more freely than I ought.',\n",
              " 'So alarming did the state of my finances become, that I soon realized that I must either leave the metropolis and rusticate somewhere in the country, or that I must make a complete alteration in my style of living.',\n",
              " 'Choosing the latter alternative, I began by making up my mind to leave the hotel, and to take up my quarters in some less pretentious and less expensive domicile.',\n",
              " 'On the very day that I had come to this conclusion, I was standing at the Criterion Bar, when some one tapped me on the shoulder, and turning round I recognized young Stamford, who had been a dresser under me at Bart’s.',\n",
              " 'The sight of a friendly face in the great wilderness of London is a pleasant thing indeed to a lonely man.',\n",
              " 'In old days Stamford had never been a particular crony of mine, but now I hailed him with enthusiasm, and he, in his turn, appeared to be delighted to see me.',\n",
              " 'In the exuberance of my joy, I asked him to lunch with me at the Holborn, and we started off together in a hansom.',\n",
              " '“Whatever have you been doing with yourself, Watson?” he asked in undisguised wonder, as we rattled through the crowded London streets.',\n",
              " '“You are as thin as a lath and as brown as a nut.”\\n\\nI gave him a short sketch of my adventures, and had hardly concluded it by the time that we reached our destination.',\n",
              " '“Poor devil!” he said, commiseratingly, after he had listened to my misfortunes.',\n",
              " '“What are you up to now?”\\n\\n“Looking for lodgings,” I answered.',\n",
              " \"“Trying to solve the problem as to whether it is possible to get comfortable rooms at a reasonable price.”\\n\\n“That's a strange thing,” remarked my companion; “you are the second man to-day that has used that expression to me.”\\n\\n“And who was the first?” I asked.\",\n",
              " '“A fellow who is working at the chemical labora tory up at the hospital.',\n",
              " 'He was bemoaning himself this morning because he could not get someone to go halves with him in some nice rooms which he had found, and which were too much for his purse.”\\n\\n“By Jove!” I cried, “if he really wants someone to share the rooms and the expense, I am the very man for him.',\n",
              " 'I should prefer having a partner to being alone.”\\n\\nYoung Stamford looked rather strangely at me over his wine-glass.',\n",
              " '“You don’t know Sherlock Holmes yet,” he said; “perhaps you would not care for him as a constant companion.”\\n\\n“Why, what is there against him?”\\n\\n“Oh, I didn’t say there was anything against him.',\n",
              " 'He is a little queer in his ideas—an enthusiast in some branches of science.',\n",
              " 'As far as I know he is a decent fellow enough.”\\n\\n“A medical student, I suppose?” said I.',\n",
              " '“No—I have no idea what he intends to go in for.',\n",
              " 'I believe he is well up in anatomy, and he is a first-class chemist; but, as far as I know, he has never taken out any systematic medical classes.',\n",
              " 'His studies are very desultory and eccentric, but he has amassed a lot of out-of-the way knowledge which would astonish his professors.”\\n\\n“Did you never ask him what he was going in for?” I asked.',\n",
              " '“No; he is not a man that it is easy to draw out, though he can be communicative enough when the fancy seizes him.”\\n\\n“T should like to meet him,” I said.',\n",
              " '“If I am to lodge with anyone, I should prefer a man of studious and quiet habits.',\n",
              " 'I am not strong enough yet to stand much noise or excitement.',\n",
              " 'I had enough of both in Afghanistan to last me for the remainder ofmy natural existence.',\n",
              " 'How could I meet this friend of yours?”\\n\\n“He is sure to be at the laboratory,” returned my companion.',\n",
              " '“He either avoids the place for weeks, or else he works there from morning to night.',\n",
              " 'If you like, we shall drive round together after luncheon.”\\n\\n“Certainly,” I answered, and the conversation drifted away into other channels.',\n",
              " 'As we made our way to the hospital after leaving the Holborn, Stamford gave me a few more particulars about the gentleman whom I proposed to take as a fellow-lodger.',\n",
              " \"“You mustn't blame me if you don’t get on with him,” he said; “I know nothing more of him than I have learned from meeting him occasionally in the laboratory.\",\n",
              " 'You proposed this arrangement, so you must not hold me responsible.”\\n\\n“If we don’t get on it will be easy to part company,” I answered.',\n",
              " '“It seems to me, Stamford,” I added, looking hard at my companion, “that you have some reason for washing your hands of the matter.',\n",
              " 'Is this fellow’s temper so formidable, or what is it?',\n",
              " 'Don’t be mealy-mouthed about it.”\\n\\n“Tt is not easy to express the inexpressible,” he answered with a laugh.',\n",
              " '“Holmes is a little too scientific for my tastes—it approaches to cold- bloodedness.',\n",
              " 'I could imagine his giving a friend a little pinch of the latest vegetable alkaloid, not out of malevolence, you understand, but simply out of a spirit of inquiry in order to have an accurate idea of the effects.',\n",
              " 'To do him justice, I think that he would take it himself with the same readiness.',\n",
              " 'He appears to have a passion for definite and exact knowledge.”\\n\\n“Very right too.”\\n\\n“Yes, but it may be pushed to excess.',\n",
              " 'When it comes to beating the subjects in the dissectingrooms with a stick, it is certainly taking rather a bizarre shape.”\\n\\n“Beating the subjects\\n\\n“Yes, to verify how far bruises may be produced after death.',\n",
              " 'I saw him at it with my own eyes.”\\n\\n“And yet you say he is not a medical student?”\\n\\n“No.',\n",
              " 'Heaven knows what the objects of his studies are.',\n",
              " 'But here we are, and you must form your own impressions about him.” As he spoke, we turned down a narrow lane and passed through a small side-door, which opened into a wing of the great hospital.',\n",
              " 'It was familiar ground to me, and I needed no guiding as we ascended the bleak stone staircase and made our way down the long corridor with its vista of whitewashed wall and dun-coloured doors.',\n",
              " 'Near the further end a low arched passage branched away from it and led to the chemical laboratory.',\n",
              " 'This was a lofty chamber, lined and littered with countless bottles.',\n",
              " 'Broad, low tables were scattered about, which bristled with retorts, test-tubes, and little Bunsen lamps, with their blue flickering flames.',\n",
              " 'There was only one student in the room, who was bending over a distant table absorbed in his work.',\n",
              " 'At the sound of our steps he glanced round and sprang to his feet with a cry of pleasure.',\n",
              " '“I’ve found it!',\n",
              " 'I’ve found it,” he shouted to my companion, running towards us with a test-tube in his hand.',\n",
              " '“I have found a re-agent which is precipitated by hcemoglobin, and by nothing else.” Had he discovered a gold mine, greater delight could not have shone upon his features.',\n",
              " '“Dr.',\n",
              " 'Watson, Mr. Sherlock Holmes,” said Stamford, introducing us.',\n",
              " '“How are you?” he said cordially, gripping my hand with a strength for which I should hardly have given him credit.',\n",
              " '“You have been in Afghanistan, I perceive.”\\n\\n“How on earth did you know that?” I asked in astonishment.',\n",
              " '“Never mind,” said he, chuckling to himself.',\n",
              " '“The question now is about hcemoglobin.',\n",
              " 'No doubt you see the significance of this discovery of mine?”\\n\\n“It is interesting, chemically, no doubt,” I answered, “but practically—”\\n\\n“Why, man, it is the most practical medico-legal discovery for years.',\n",
              " 'Don’t you see that it gives us an infallible test for blood stains.',\n",
              " 'Come over here now!” He seized me by the coat-sleeve in his eagerness, and drew me over to the table at which he had been working.',\n",
              " '“Let us have some fresh blood,” he said, digging a long bodkin into his finger, and drawing off the resulting drop of blood in a chemical pipette.',\n",
              " '“Now, I add this small quantity of blood to a litre of water.',\n",
              " 'You perceive that the resulting mixture has the appearance of pure water.',\n",
              " 'The proportion of blood cannot be more than one in a million.',\n",
              " 'I have no doubt, however, that we shall be able to obtain the characteristic reaction.” As he spoke, he threw into the vessel a few white crystals, and then added some drops of a transparent fluid.',\n",
              " 'In an instant the contents assumed a dull mahogany colour, and a brownish dust was precipitated to the bottom of the glass jar.',\n",
              " '“Ha!',\n",
              " 'ha!” he cried, clapping his hands, and looking as delighted as a child with a new toy.',\n",
              " '“What do you think of that?”\\n\\n“Tt seems to be a very delicate test,” I remarked.',\n",
              " '“Beautiful!',\n",
              " 'beautiful!',\n",
              " 'The old Guiacum test was very clumsy and uncertain.',\n",
              " 'So is the microscopic examination for blood corpuscles.',\n",
              " 'The latter is valueless if the stains are a few hours old.',\n",
              " 'Now, this appears to act as well whether the blood is old or new.',\n",
              " 'Had this test been invented, there are hundreds of men now walking the earth who would long ago have paid the penalty of their crimes.”\\n\\n“Indeed!” I murmured.',\n",
              " '“Criminal cases are continually hinging upon that one point.',\n",
              " 'A man is suspected of a crime months perhaps after it has been committed.',\n",
              " 'His linen or clothes are examined, and brownish stains discovered upon them.',\n",
              " 'Are they blood stains, or mud stains, or rust stains, or fruit stains, or what are they?',\n",
              " 'That is a question which has puzzled many an expert, and why?',\n",
              " 'Because there was no reliable test.',\n",
              " 'Now we have the Sherlock Holmes’ test, and there will no longer be any difficulty.”\\n\\nHis eyes fairly glittered as he spoke, and he put his hand over his heart and bowed as if to some applauding crowd conjured up by his imagination.',\n",
              " '“You are to be congratulated,” I remarked, considerably surprised at his enthusiasm.',\n",
              " '“There was the case of Von Bischoff at Frankfort last year.',\n",
              " 'He would certainly have been hung had this test been in existence.',\n",
              " 'Then there was Mason of Bradford, and the notorious Muller, and Lefevre of Montpellier, and Samson of new Orleans.',\n",
              " 'I could name a score of cases in which it would have been decisive.”\\n\\n“You seem to be a walking calendar of crime,” said Stamford with a laugh.',\n",
              " '“You might start a paper on those lines.',\n",
              " 'Call it the ‘Police News of the Past.’ ”\\n\\n“Very interesting reading it might be made, too,” remarked Sherlock Holmes, sticking a small piece of plaster over the prick on his finger.',\n",
              " '“I have to be careful,” he continued, turning to me with a smile, “for I dabble with poisons a good deal.” He held out his hand as he spoke, and I noticed that it was all mottled over with similar pieces of plaster, and discoloured with strong acids.',\n",
              " '“We came here on business,” said Stamford, sit- ting down on a high three-legged stool, and pushing another one in my direction with his foot.',\n",
              " '“My friend here wants to take diggings, and as you were complaining that you could get no one to go halveswith you, I thought that I had better bring you together.”\\n\\nSherlock Holmes seemed delighted at the idea of sharing his rooms with me.',\n",
              " '“I have my eye on a suite in Baker Street,” he said, “which would suit us down to the ground.',\n",
              " 'You don’t mind the smell of strong tobacco, I hope?”\\n\\n“T always smoke ‘ship’s’ myself,” I answered.',\n",
              " '“That’s good enough.',\n",
              " 'I generally have chemicals about, and occasionally do experiments.',\n",
              " 'Would that annoy you?”\\n\\n“By no means.”\\n\\n“Let me see—what are my other shortcomings.',\n",
              " 'I get in the dumps at times, and don’t open my mouth for days on end.',\n",
              " 'You must not think Iam sulky when I do that.',\n",
              " \"Just let me alone, and I'll soon be right.\",\n",
              " 'What have you to confess now?',\n",
              " 'It’s just as well for two fellows to know the worst of one another before they begin to live together.”\\n\\nI laughed at this cross-examination.',\n",
              " '“I keep a bull pup,” I said, “and I object to rows because my nerves are shaken, and I get up at all sorts of ungodly hours, and I am extremely lazy.',\n",
              " 'I have another set of vices when I’m well, but those are the principal ones at present.”\\n\\n“Do you include violin-playing in your category of rows?” he asked, anxiously.',\n",
              " '“It depends on the player,” I answered.',\n",
              " '“A well-played violin is a treat for the gods—a badly-played one—”\\n\\n“Oh, that’s all right,” he cried, with a merry laugh.',\n",
              " \"“I think we may consider the thing as set-tled—that is, if the rooms are agreeable to you.”\\n\\n“When shall we see them?”\\n\\n“Call for me here at noon to-morrow, and we'll go together and settle everything,” he answered.\",\n",
              " '“All right—noon exactly,” said I, shaking his hand.',\n",
              " 'We left him working among his chemicals, and we walked together towards my hotel.',\n",
              " '“By the way,” I asked suddenly, stopping and turning upon Stamford, “how the deuce did he know that I had come from Afghanistan?”\\n\\nMy companion smiled an enigmatical smile.',\n",
              " \"“That's just his little peculiarity,” he said.\",\n",
              " '“A good many people have wanted to know how he finds things out.”\\n\\n“Oh!',\n",
              " 'a mystery is it?” I cried, rubbing my hands.',\n",
              " '“This is very piquant.',\n",
              " 'I am much obliged to you for bringing us together.',\n",
              " '‘The proper study of mankind is man,’ you know.”\\n\\n“You must study him, then,” Stamford said, as he bade me good-bye.',\n",
              " \"“You'll find him a knotty problem, though.\",\n",
              " 'I’ll wager he learns more about you than you about him.',\n",
              " 'Good-bye.”\\n\\n“Good-bye,” I answered, and strolled on to my hotel, considerably interested in my new acquainance.']"
            ]
          },
          "metadata": {},
          "execution_count": 26
        }
      ]
    },
    {
      "cell_type": "code",
      "source": [
        "len(sentences)"
      ],
      "metadata": {
        "colab": {
          "base_uri": "https://localhost:8080/",
          "height": 34
        },
        "id": "YTQpKCeXByXL",
        "outputId": "62eb474a-c353-441c-d562-15a27d308c25"
      },
      "execution_count": 27,
      "outputs": [
        {
          "output_type": "display_data",
          "data": {
            "text/plain": [
              "<IPython.core.display.HTML object>"
            ],
            "text/html": [
              "\n",
              "  <style>\n",
              "    pre {\n",
              "        white-space: pre-wrap;\n",
              "    }\n",
              "  </style>\n",
              "  "
            ]
          },
          "metadata": {}
        },
        {
          "output_type": "execute_result",
          "data": {
            "text/plain": [
              "135"
            ]
          },
          "metadata": {},
          "execution_count": 27
        }
      ]
    },
    {
      "cell_type": "code",
      "source": [
        "max([len(tokenizer.tokenize(sentence)) for sentence in sentences])"
      ],
      "metadata": {
        "colab": {
          "base_uri": "https://localhost:8080/",
          "height": 34
        },
        "id": "rbFzEU1tB2mj",
        "outputId": "a7927fc2-bec8-42ea-a7cd-5ddabf833b48"
      },
      "execution_count": 28,
      "outputs": [
        {
          "output_type": "display_data",
          "data": {
            "text/plain": [
              "<IPython.core.display.HTML object>"
            ],
            "text/html": [
              "\n",
              "  <style>\n",
              "    pre {\n",
              "        white-space: pre-wrap;\n",
              "    }\n",
              "  </style>\n",
              "  "
            ]
          },
          "metadata": {}
        },
        {
          "output_type": "execute_result",
          "data": {
            "text/plain": [
              "76"
            ]
          },
          "metadata": {},
          "execution_count": 28
        }
      ]
    },
    {
      "cell_type": "code",
      "source": [
        "length = 0\n",
        "chunk = \"\"\n",
        "chunks = []\n",
        "count = -1\n",
        "for sentence in sentences:\n",
        "  count += 1\n",
        "  combined_length = len(tokenizer.tokenize(sentence)) + length # add the no. of sentence tokens to the length counter\n",
        "\n",
        "  if combined_length  <= tokenizer.max_len_single_sentence: # if it doesn't exceed\n",
        "    chunk += sentence + \" \" # add the sentence to the chunk\n",
        "    length = combined_length # update the length counter\n",
        "\n",
        "    # if it is the last sentence\n",
        "    if count == len(sentences) - 1:\n",
        "      chunks.append(chunk.strip()) # save the chunk\n",
        "    \n",
        "  else: \n",
        "    chunks.append(chunk.strip()) # save the chunk\n",
        "    \n",
        "    # reset \n",
        "    length = 0 \n",
        "    chunk = \"\"\n",
        "\n",
        "    # take care of the overflow sentence\n",
        "    chunk += sentence + \" \"\n",
        "    length = len(tokenizer.tokenize(sentence))\n",
        "len(chunks)"
      ],
      "metadata": {
        "colab": {
          "base_uri": "https://localhost:8080/",
          "height": 34
        },
        "id": "WMTXAmHHB6KZ",
        "outputId": "4e7bb08a-496e-4d0d-cc8f-824ee8c0c9a6"
      },
      "execution_count": 29,
      "outputs": [
        {
          "output_type": "display_data",
          "data": {
            "text/plain": [
              "<IPython.core.display.HTML object>"
            ],
            "text/html": [
              "\n",
              "  <style>\n",
              "    pre {\n",
              "        white-space: pre-wrap;\n",
              "    }\n",
              "  </style>\n",
              "  "
            ]
          },
          "metadata": {}
        },
        {
          "output_type": "execute_result",
          "data": {
            "text/plain": [
              "4"
            ]
          },
          "metadata": {},
          "execution_count": 29
        }
      ]
    },
    {
      "cell_type": "code",
      "source": [
        "inputs = [tokenizer(chunk, return_tensors=\"pt\") for chunk in chunks]"
      ],
      "metadata": {
        "colab": {
          "base_uri": "https://localhost:8080/",
          "height": 17
        },
        "id": "2BxN_0i6CL_g",
        "outputId": "74ad4628-fb1e-4310-ca56-569ae5fb6449"
      },
      "execution_count": 30,
      "outputs": [
        {
          "output_type": "display_data",
          "data": {
            "text/plain": [
              "<IPython.core.display.HTML object>"
            ],
            "text/html": [
              "\n",
              "  <style>\n",
              "    pre {\n",
              "        white-space: pre-wrap;\n",
              "    }\n",
              "  </style>\n",
              "  "
            ]
          },
          "metadata": {}
        }
      ]
    },
    {
      "cell_type": "code",
      "source": [
        "for input in inputs:\n",
        "  output = model.generate(**input)\n",
        "  print(tokenizer.decode(*output, skip_special_tokens=True))"
      ],
      "metadata": {
        "colab": {
          "base_uri": "https://localhost:8080/",
          "height": 225
        },
        "id": "Q6JQ0qRGCvZP",
        "outputId": "5ee90990-04d9-47b8-9c5a-ecef2156bebb"
      },
      "execution_count": 31,
      "outputs": [
        {
          "output_type": "display_data",
          "data": {
            "text/plain": [
              "<IPython.core.display.HTML object>"
            ],
            "text/html": [
              "\n",
              "  <style>\n",
              "    pre {\n",
              "        white-space: pre-wrap;\n",
              "    }\n",
              "  </style>\n",
              "  "
            ]
          },
          "metadata": {}
        },
        {
          "output_type": "stream",
          "name": "stderr",
          "text": [
            "/usr/local/lib/python3.7/dist-packages/transformers/generation_utils.py:1301: UserWarning: Neither `max_length` nor `max_new_tokens` has been set, `max_length` will default to 142 (`self.config.max_length`). Controlling `max_length` via the config is deprecated and `max_length` will be removed from the config in v5 of Transformers -- we recommend using `max_new_tokens` to control the maximum length of the generation.\n",
            "  UserWarning,\n"
          ]
        },
        {
          "output_type": "stream",
          "name": "stdout",
          "text": [
            " Watson was a surgeon in the Second Afghan war. He was struck on the shoulder by a Jezail bullet, which shattered the bone and grazed the subclavian artery. Watson was sent back to England in 1878 after suffering from enteric fever. He spent the next nine months in London trying to improve his health.\n",
            " Holmes was bemoaning himself this morning because he could not get someone to go halves with him in some nice rooms which he had found, and which were too much for his purse. Young Stamford looked rather strangely at me over his wine-glass. \"You don’t know Sherlock Holmes yet,” he said, “perhaps you would not care for him as a constant companion.”\n",
            " Watson and Stamford met Stamford Stamford at Stamford's chemical laboratory. The laboratory contained a re-agent which is precipitated by hcemoglobin, and by nothing else. It gives us an infallible test for blood stains, Watson said. The old Guiacum test was very clumsy and uncertain, so is the microscopic examination for blood corpuscles.\n",
            " Sherlock Holmes and Stamford came to London on business. Holmes asked Stamford to share his rooms with him. Stamford replied: \"I have my eye on a suite in Baker Street,” he said, “which would suit us down to the ground.” Holmes said: “I could name a score of cases in which it would have been decisive”\n"
          ]
        }
      ]
    },
    {
      "cell_type": "code",
      "source": [],
      "metadata": {
        "id": "6hmK7AwPCzIb"
      },
      "execution_count": null,
      "outputs": []
    }
  ]
}